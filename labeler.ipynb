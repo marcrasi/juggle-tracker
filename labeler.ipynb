{
 "cells": [
  {
   "cell_type": "code",
   "execution_count": 1,
   "metadata": {},
   "outputs": [],
   "source": [
    "from ipycanvas import Canvas, hold_canvas\n",
    "from ipywidgets import Image\n",
    "from IPython.display import display\n",
    "import ipywidgets as widgets\n",
    "from dataclasses import dataclass\n",
    "import dataclasses\n",
    "import numpy as np\n",
    "from os import path\n",
    "from ipyevents import Event\n",
    "import json\n",
    "\n",
    "from juggle_tracker.labels import BallState, BallSequence, VideoLabels"
   ]
  },
  {
   "cell_type": "code",
   "execution_count": 2,
   "metadata": {},
   "outputs": [],
   "source": [
    "_ = \"\"\"\n",
    "Labeler UI design.\n",
    "\n",
    "Sidebar to select a ball or create a new ball.\n",
    "Clicking on a ball selects it.\n",
    "Creating a new ball creates a ball at the center of the current frame.\n",
    "\n",
    "The selected ball is orange.\n",
    "Other balls in the frame are black.\n",
    "\n",
    "A/D keys go to prev/next frames.\n",
    "If the selected ball is not present in the prev/next frame, it is extended.\n",
    "\n",
    "Clicking repositions the selected ball.\n",
    "\n",
    "There is a textbox for quickly jumping to a numbered frame. (not done yet)\n",
    "\n",
    "S toggles the selected ball between freefall and held label.\n",
    "\"\"\""
   ]
  },
  {
   "cell_type": "code",
   "execution_count": 14,
   "metadata": {},
   "outputs": [],
   "source": [
    "# The state of the labeling UI.\n",
    "@dataclass\n",
    "class LabelingState:\n",
    "    # The current labels for the video.\n",
    "    labels: VideoLabels\n",
    "        \n",
    "    # The current frame being displayed by the UI.\n",
    "    current_frame: int\n",
    "        \n",
    "    # The id of the ball that will be affected by the next click/keypress.\n",
    "    # `None` if there is no ball.\n",
    "    current_ball: str\n",
    "    \n",
    "    # The directory with the images, e.g. 'data/cap3/imgs'.\n",
    "    imgs_dir: str\n",
    "        \n",
    "    # The file where we load/save the labels, e.g. 'data/cap3/labels_1.txt'\n",
    "    labels_file: str\n",
    "        \n",
    "    def img_path(self):\n",
    "        return path.join(self.imgs_dir, '%03d.png' % self.current_frame)\n",
    "    \n",
    "    def current_ball_state(self):\n",
    "        if self.current_ball is None:\n",
    "            return None\n",
    "        ball = self.labels.balls[self.current_ball]\n",
    "        return ball.states[self.current_frame - ball.start_frame]"
   ]
  },
  {
   "cell_type": "code",
   "execution_count": 19,
   "metadata": {},
   "outputs": [
    {
     "name": "stdout",
     "output_type": "stream",
     "text": [
      "loading existing labels\n"
     ]
    }
   ],
   "source": [
    "imgs_dir = 'data\\cap3\\img'\n",
    "labels_file = 'data\\cap3\\labels_1.txt'\n",
    "\n",
    "try:\n",
    "    labels = VideoLabels.load(labels_file)\n",
    "    print(\"loading existing labels\")\n",
    "except FileNotFoundError:\n",
    "    print(\"new labels\")\n",
    "    labels = VideoLabels(balls={})\n",
    "    \n",
    "labeling_state = LabelingState(\n",
    "    labels=labels,\n",
    "    current_frame=0,\n",
    "    current_ball=None,\n",
    "    imgs_dir=imgs_dir,\n",
    "    labels_file=labels_file,\n",
    ")"
   ]
  },
  {
   "cell_type": "code",
   "execution_count": 20,
   "metadata": {},
   "outputs": [
    {
     "data": {
      "application/vnd.jupyter.widget-view+json": {
       "model_id": "27e13628f4944ed9bde836026306c1d1",
       "version_major": 2,
       "version_minor": 0
      },
      "text/plain": [
       "HBox(children=(Canvas(height=480, width=640), VBox()))"
      ]
     },
     "metadata": {},
     "output_type": "display_data"
    }
   ],
   "source": [
    "labeling_widget_canvas = Canvas(width=640, height=480)\n",
    "labeling_widget_sidebar = widgets.VBox([])\n",
    "labeling_widget = widgets.HBox([labeling_widget_canvas, labeling_widget_sidebar])\n",
    "events = Event(source=labeling_widget, watched_events=['keydown'])\n",
    "display(labeling_widget)\n",
    "\n",
    "def handle_new_ball(x, y):\n",
    "    next_ball_id = labeling_state.labels.next_ball_id()\n",
    "    labeling_state.labels.balls[next_ball_id] = BallSequence(\n",
    "        start_frame=labeling_state.current_frame,\n",
    "        states=[\n",
    "            BallState(\n",
    "                position=np.array([x, y]),\n",
    "                freefall=False,\n",
    "            )\n",
    "        ],\n",
    "        color='orange',\n",
    "    )\n",
    "    labeling_state.current_ball = next_ball_id\n",
    "    rerender()\n",
    "\n",
    "def handle_reposition_ball(x, y):\n",
    "    state = labeling_state.current_ball_state()\n",
    "    state.position = np.array([x, y])\n",
    "        \n",
    "debug_view_event = widgets.Output()\n",
    "\n",
    "@debug_view_event.capture(clear_output=True)\n",
    "def handle_mouse_down(x, y):\n",
    "    if labeling_state.current_ball is not None:\n",
    "        handle_reposition_ball(x, y)\n",
    "    rerender()\n",
    "labeling_widget_canvas.on_mouse_down(handle_mouse_down)\n",
    "\n",
    "def handle_frame_change(delta):\n",
    "    old_frame = labeling_state.current_frame\n",
    "    labeling_state.current_frame += delta\n",
    "    \n",
    "    # Extend the current ball into this frame\n",
    "    if labeling_state.current_ball is not None:\n",
    "        ball = labeling_state.labels.balls[labeling_state.current_ball]\n",
    "        if ball.start_frame == old_frame and delta == -1:\n",
    "            print(\"Extending backwards to \" + str(ball.start_frame - 1))\n",
    "            ball.start_frame -= 1\n",
    "            ball.states.insert(0, dataclasses.replace(ball.states[0]))\n",
    "        if ball.start_frame + len(ball.states) - 1 == old_frame and delta == 1:\n",
    "            print(\"Extending forwards to \" + str(ball.start_frame + len(ball.states)))\n",
    "            ball.states.append(dataclasses.replace(ball.states[-1]))\n",
    "    \n",
    "    rerender()\n",
    "\n",
    "def handle_toggle_freefall():\n",
    "    if labeling_state.current_ball is None:\n",
    "        return\n",
    "    state = labeling_state.current_ball_state()\n",
    "    state.freefall = not state.freefall\n",
    "    rerender()\n",
    "    \n",
    "@debug_view_event.capture(clear_output=True)\n",
    "def handle_dom_event(event):\n",
    "    if event['event'] == 'keydown':\n",
    "        if event['key'] == 'd':\n",
    "            handle_frame_change(1)\n",
    "        elif event['key'] == 'a':\n",
    "            handle_frame_change(-1)\n",
    "        elif event['key'] == 's':\n",
    "            handle_toggle_freefall()\n",
    "events.on_dom_event(handle_dom_event)\n",
    "\n",
    "@debug_view_event.capture(clear_output=True)\n",
    "def handle_button_click(ball_id):\n",
    "    labeling_state.current_ball = ball_id\n",
    "    rerender()\n",
    "    \n",
    "def rerender():\n",
    "    \n",
    "    # Redraw the canvas.\n",
    "    \n",
    "    with hold_canvas(labeling_widget_canvas):\n",
    "        labeling_widget_canvas.clear()\n",
    "        frame = Image.from_file(labeling_state.img_path())\n",
    "        labeling_widget_canvas.draw_image(frame, 0, 0)\n",
    "\n",
    "        # It doesn't display the first few strokes for some reason, so just draw some extra strokes to make it\n",
    "        # display the important ones.\n",
    "        for i in range(10):\n",
    "            labeling_widget_canvas.stroke_circle(i * 10, 0, 5)\n",
    "\n",
    "        for ball_id in labeling_state.labels.balls:\n",
    "            ball = labeling_state.labels.balls[ball_id]\n",
    "            sequence_index = labeling_state.current_frame - ball.start_frame\n",
    "            if sequence_index >= 0 and sequence_index < len(ball.states):\n",
    "                state = ball.states[sequence_index]\n",
    "                if ball_id == labeling_state.current_ball:\n",
    "                    labeling_widget_canvas.stroke_style = 'orange'\n",
    "                else:\n",
    "                    labeling_widget_canvas.stroke_style = 'gray'\n",
    "                labeling_widget_canvas.stroke_circle(state.position[0], state.position[1], 10)\n",
    "                \n",
    "                label_text = str(ball_id)\n",
    "                if not state.freefall:\n",
    "                    label_text += ' H'\n",
    "                labeling_widget_canvas.stroke_text(label_text, state.position[0], state.position[1])\n",
    "            \n",
    "    # Redraw the sidebar.\n",
    "    \n",
    "    sidebar_rows = []\n",
    "    for ball_id in labeling_state.labels.balls:\n",
    "        b = widgets.Button(description='Ball ' + str(ball_id))\n",
    "        b.on_click(lambda _, ball_id=ball_id: handle_button_click(ball_id))\n",
    "        sidebar_rows.append(b)\n",
    "    new_ball_button = widgets.Button(description='Add ball')\n",
    "    new_ball_button.on_click(lambda _: handle_new_ball(100, 100))\n",
    "    sidebar_rows.append(new_ball_button)\n",
    "    labeling_widget_sidebar.children = sidebar_rows\n",
    "    \n",
    "rerender()"
   ]
  },
  {
   "cell_type": "code",
   "execution_count": 22,
   "metadata": {},
   "outputs": [
    {
     "data": {
      "application/vnd.jupyter.widget-view+json": {
       "model_id": "e91d6dc8dbf0450cb875bfab05e6cad4",
       "version_major": 2,
       "version_minor": 0
      },
      "text/plain": [
       "Output()"
      ]
     },
     "metadata": {},
     "output_type": "display_data"
    }
   ],
   "source": [
    "display(debug_view_event)"
   ]
  },
  {
   "cell_type": "code",
   "execution_count": 23,
   "metadata": {},
   "outputs": [],
   "source": [
    "labeling_state.labels.save(labeling_state.labels_file)"
   ]
  },
  {
   "cell_type": "code",
   "execution_count": null,
   "metadata": {},
   "outputs": [],
   "source": []
  }
 ],
 "metadata": {
  "kernelspec": {
   "display_name": "Python 3",
   "language": "python",
   "name": "python3"
  },
  "language_info": {
   "codemirror_mode": {
    "name": "ipython",
    "version": 3
   },
   "file_extension": ".py",
   "mimetype": "text/x-python",
   "name": "python",
   "nbconvert_exporter": "python",
   "pygments_lexer": "ipython3",
   "version": "3.8.3"
  }
 },
 "nbformat": 4,
 "nbformat_minor": 4
}
